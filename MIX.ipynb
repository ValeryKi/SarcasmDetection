{
 "cells": [
  {
   "cell_type": "code",
   "execution_count": 1,
   "metadata": {
    "collapsed": true
   },
   "outputs": [],
   "source": [
    "import pandas as pd\n",
    "import numpy as np\n",
    "from scipy.stats import mode\n",
    "from sklearn.metrics import roc_auc_score\n",
    "from sklearn.metrics import f1_score\n",
    "from sklearn.metrics import recall_score\n",
    "from sklearn.metrics import precision_score\n",
    "from sklearn.metrics import accuracy_score"
   ]
  },
  {
   "cell_type": "code",
   "execution_count": 2,
   "metadata": {
    "collapsed": true
   },
   "outputs": [],
   "source": [
    "def load_true_values():\n",
    "    y_tests = []\n",
    "    for i in range(10):\n",
    "        y_test = pd.read_csv(\"data_test_kf_\"+str(i)+\".csv\", encoding=\"utf-8\")[\"sarc\"]\n",
    "        y_tests.append(y_test)\n",
    "    return y_tests"
   ]
  },
  {
   "cell_type": "code",
   "execution_count": 3,
   "metadata": {
    "collapsed": true
   },
   "outputs": [],
   "source": [
    "def load_probas(alg):\n",
    "    y_probas = []\n",
    "    for i in range(10):\n",
    "        a = pd.Series.from_csv(alg +\"_y_prb_kf_\"+str(i)+\".csv\",  header=None)\n",
    "        y_probas.append(a.values)\n",
    "    return y_probas"
   ]
  },
  {
   "cell_type": "code",
   "execution_count": 4,
   "metadata": {
    "collapsed": false
   },
   "outputs": [],
   "source": [
    "def load_predicts(alg):\n",
    "    y_predicts = []\n",
    "    for i in range(10):\n",
    "        a = pd.Series.from_csv(alg +\"_y_prd_kf_\"+str(i)+\".csv\",  header=None)\n",
    "        y_predicts.append(a.values)\n",
    "        \n",
    "    return y_predicts"
   ]
  },
  {
   "cell_type": "code",
   "execution_count": 5,
   "metadata": {
    "collapsed": false
   },
   "outputs": [],
   "source": [
    "y_tests = load_true_values()\n"
   ]
  },
  {
   "cell_type": "code",
   "execution_count": 6,
   "metadata": {
    "collapsed": false
   },
   "outputs": [],
   "source": [
    "y_proba_bm = load_probas(\"bm\")\n",
    "y_pr_bm = load_predicts(\"bm\")"
   ]
  },
  {
   "cell_type": "code",
   "execution_count": 7,
   "metadata": {
    "collapsed": false
   },
   "outputs": [],
   "source": [
    "y_proba_con = load_probas(\"con\")\n",
    "y_pr_con = load_predicts(\"con\")"
   ]
  },
  {
   "cell_type": "code",
   "execution_count": 8,
   "metadata": {
    "collapsed": true
   },
   "outputs": [],
   "source": [
    "y_proba_bag = load_probas(\"bag\")\n",
    "y_pr_bag = load_predicts(\"bag\")"
   ]
  },
  {
   "cell_type": "code",
   "execution_count": 9,
   "metadata": {
    "collapsed": true
   },
   "outputs": [],
   "source": [
    "y_proba_nov = load_probas(\"nov\")\n",
    "y_pr_nov = load_predicts(\"nov\")"
   ]
  },
  {
   "cell_type": "code",
   "execution_count": 10,
   "metadata": {
    "collapsed": true
   },
   "outputs": [],
   "source": [
    "y_pr_new = load_predicts(\"new\")"
   ]
  },
  {
   "cell_type": "code",
   "execution_count": 11,
   "metadata": {
    "collapsed": true
   },
   "outputs": [],
   "source": [
    "def and_group(l):\n",
    "    for i in l:\n",
    "        if i == 0:\n",
    "            return 0\n",
    "    return 1\n",
    "\n",
    "def or_group(l):\n",
    "    for i in l:\n",
    "        if i == 1:\n",
    "            return 1\n",
    "    return 0"
   ]
  },
  {
   "cell_type": "code",
   "execution_count": 12,
   "metadata": {
    "collapsed": true
   },
   "outputs": [],
   "source": [
    "def get_and_predictions(l):\n",
    "    predictions = []\n",
    "    for test in zip(*l):\n",
    "        pr = pd.DataFrame(data = np.array(test)).apply(and_group).values\n",
    "        predictions.append(pr)\n",
    "    return predictions  \n",
    "\n",
    "def get_or_predictions(l):\n",
    "    predictions = []\n",
    "    for test in zip(*l):\n",
    "        pr = pd.DataFrame(data = np.array(test)).apply(or_group).values\n",
    "        predictions.append(pr)\n",
    "    return predictions  "
   ]
  },
  {
   "cell_type": "code",
   "execution_count": 13,
   "metadata": {
    "collapsed": true
   },
   "outputs": [],
   "source": [
    "def get_majority_predictions(l):\n",
    "    predictions = []\n",
    "    for test in zip(*l):\n",
    "        pr = mode(test, axis=0).mode[0]\n",
    "        predictions.append(pr)\n",
    "    return predictions"
   ]
  },
  {
   "cell_type": "code",
   "execution_count": 33,
   "metadata": {
    "collapsed": true
   },
   "outputs": [],
   "source": [
    "def w_v(l):\n",
    "    new_l = []\n",
    "    for w, i in zip(weights, l):\n",
    "        new_l += [i] * w\n",
    "    return mode(new_l, axis=None).mode[0]\n",
    "\n",
    "def get_weighted_voting_predictions(l):\n",
    "    predictions = []\n",
    "    for test in zip(*l):\n",
    "        pr = pd.DataFrame(data = np.array(test)).apply(w_v).values\n",
    "        predictions.append(pr)\n",
    "    return predictions"
   ]
  },
  {
   "cell_type": "code",
   "execution_count": 15,
   "metadata": {
    "collapsed": true
   },
   "outputs": [],
   "source": [
    "def get_scores(y_tests, y_predicts):\n",
    "    f_scores = []\n",
    "    recall_scores = []\n",
    "    precision_scores = []\n",
    "    accuracy_scores = []\n",
    "    for y_test, y_pred in zip(y_tests, y_predicts):\n",
    "        f_scores.append(f1_score(y_test, y_pred))\n",
    "        recall_scores.append(recall_score(y_test, y_pred))\n",
    "        precision_scores.append(precision_score(y_test, y_pred))\n",
    "        accuracy_scores.append(accuracy_score(y_test, y_pred))\n",
    "    return f_scores, recall_scores, precision_scores, accuracy_scores"
   ]
  },
  {
   "cell_type": "code",
   "execution_count": 25,
   "metadata": {
    "collapsed": false
   },
   "outputs": [
    {
     "name": "stdout",
     "output_type": "stream",
     "text": [
      "avg f1: 0.784467215468\n",
      "avg recall: 0.873169895644\n",
      "precision: 0.712465705824\n",
      "accuracy: 0.760319704928\n"
     ]
    }
   ],
   "source": [
    "new_con_and = get_and_predictions([y_pr_new, y_pr_con])\n",
    "new_con_or = get_or_predictions([y_pr_new, y_pr_con])\n",
    "f1, recall, pr, acc = get_scores(y_tests, new_con_or)\n",
    "print \"avg f1:\", np.mean(f1)\n",
    "print \"avg recall:\", np.mean(recall)\n",
    "print \"precision:\", np.mean(pr)\n",
    "print \"accuracy:\", np.mean(acc)"
   ]
  },
  {
   "cell_type": "code",
   "execution_count": 38,
   "metadata": {
    "collapsed": false
   },
   "outputs": [
    {
     "name": "stdout",
     "output_type": "stream",
     "text": [
      "avg f1: 0.786730590526\n",
      "avg recall: 0.823821568216\n",
      "precision: 0.753220275503\n",
      "accuracy: 0.776830407375\n"
     ]
    }
   ],
   "source": [
    "weights = [2, 1, 1]\n",
    "con_new_nov_maj = get_majority_predictions([y_pr_new, y_pr_nov, y_pr_con])\n",
    "con_new_nov_w_v = get_weighted_voting_predictions([y_pr_new, y_pr_nov,  y_pr_con])\n",
    "f1, recall, pr, acc = get_scores(y_tests, con_new_nov_maj)\n",
    "print \"avg f1:\", np.mean(f1)\n",
    "print \"avg recall:\", np.mean(recall)\n",
    "print \"precision:\", np.mean(pr)\n",
    "print \"accuracy:\", np.mean(acc)"
   ]
  },
  {
   "cell_type": "code",
   "execution_count": 39,
   "metadata": {
    "collapsed": false
   },
   "outputs": [
    {
     "name": "stdout",
     "output_type": "stream",
     "text": [
      "avg f1: 0.779619108581\n",
      "avg recall: 0.77257880854\n",
      "precision: 0.787204862967\n",
      "accuracy: 0.781692450724\n"
     ]
    }
   ],
   "source": [
    "f1, recall, pr, acc = get_scores(y_tests, con_new_nov_w_v)\n",
    "print \"avg f1:\", np.mean(f1)\n",
    "print \"avg recall:\", np.mean(recall)\n",
    "print \"precision:\", np.mean(pr)\n",
    "print \"accuracy:\", np.mean(acc)"
   ]
  },
  {
   "cell_type": "code",
   "execution_count": 41,
   "metadata": {
    "collapsed": false
   },
   "outputs": [
    {
     "name": "stdout",
     "output_type": "stream",
     "text": [
      "avg f1: 0.788711841136\n",
      "avg recall: 0.821450935609\n",
      "precision: 0.758855180164\n",
      "accuracy: 0.780075245133\n"
     ]
    }
   ],
   "source": [
    "bag_new_nov_maj = get_majority_predictions([y_pr_new, y_pr_nov, y_pr_bag])\n",
    "f1, recall, pr, acc = get_scores(y_tests, bag_new_nov_maj)\n",
    "print \"avg f1:\", np.mean(f1)\n",
    "print \"avg recall:\", np.mean(recall)\n",
    "print \"precision:\", np.mean(pr)\n",
    "print \"accuracy:\", np.mean(acc)"
   ]
  },
  {
   "cell_type": "code",
   "execution_count": 43,
   "metadata": {
    "collapsed": false
   },
   "outputs": [
    {
     "name": "stdout",
     "output_type": "stream",
     "text": [
      "avg f1: 0.78051565122\n",
      "avg recall: 0.777912354708\n",
      "precision: 0.783631727115\n",
      "accuracy: 0.781398551575\n"
     ]
    }
   ],
   "source": [
    "weights = [2, 1, 1]\n",
    "bag_new_nov_w_v = get_weighted_voting_predictions([y_pr_new, y_pr_nov,  y_pr_bag])\n",
    "f1, recall, pr, acc = get_scores(y_tests, bag_new_nov_w_v)\n",
    "print \"avg f1:\", np.mean(f1)\n",
    "print \"avg recall:\", np.mean(recall)\n",
    "print \"precision:\", np.mean(pr)\n",
    "print \"accuracy:\", np.mean(acc)"
   ]
  },
  {
   "cell_type": "code",
   "execution_count": 52,
   "metadata": {
    "collapsed": false
   },
   "outputs": [
    {
     "name": "stdout",
     "output_type": "stream",
     "text": [
      "avg f1: 0.782751571795\n",
      "avg recall: 0.784924867608\n",
      "precision: 0.781043915066\n",
      "accuracy: 0.782282204005\n"
     ]
    }
   ],
   "source": [
    "weights = [3, 1, 1, 1]\n",
    "bag_new_nov_w_v = get_weighted_voting_predictions([y_pr_new, y_pr_nov,  y_pr_bag, y_pr_con])\n",
    "f1, recall, pr, acc = get_scores(y_tests, bag_new_nov_w_v)\n",
    "print \"avg f1:\", np.mean(f1)\n",
    "print \"avg recall:\", np.mean(recall)\n",
    "print \"precision:\", np.mean(pr)\n",
    "print \"accuracy:\", np.mean(acc)"
   ]
  },
  {
   "cell_type": "code",
   "execution_count": 59,
   "metadata": {
    "collapsed": false
   },
   "outputs": [
    {
     "name": "stdout",
     "output_type": "stream",
     "text": [
      "avg f1: 0.789002933825\n",
      "avg recall: 0.827970223497\n",
      "precision: 0.753930847571\n",
      "accuracy: 0.778746508183\n"
     ]
    }
   ],
   "source": [
    "weights = [2, 1, 1, 1]\n",
    "bag_new_nov_w_v = get_weighted_voting_predictions([y_pr_new, y_pr_nov,  y_pr_bm, y_pr_con])\n",
    "f1, recall, pr, acc = get_scores(y_tests, bag_new_nov_w_v)\n",
    "print \"avg f1:\", np.mean(f1)\n",
    "print \"avg recall:\", np.mean(recall)\n",
    "print \"precision:\", np.mean(pr)\n",
    "print \"accuracy:\", np.mean(acc)"
   ]
  },
  {
   "cell_type": "code",
   "execution_count": 60,
   "metadata": {
    "collapsed": false
   },
   "outputs": [
    {
     "name": "stdout",
     "output_type": "stream",
     "text": [
      "avg f1: 0.790030407184\n",
      "avg recall: 0.825283730311\n",
      "precision: 0.758078166179\n",
      "accuracy: 0.780810970497\n"
     ]
    }
   ],
   "source": [
    "weights = [2, 1, 1, 1]\n",
    "bag_new_nov_w_v = get_weighted_voting_predictions([y_pr_new, y_pr_nov,  y_pr_bag, y_pr_bm])\n",
    "f1, recall, pr, acc = get_scores(y_tests, bag_new_nov_w_v)\n",
    "print \"avg f1:\", np.mean(f1)\n",
    "print \"avg recall:\", np.mean(recall)\n",
    "print \"precision:\", np.mean(pr)\n",
    "print \"accuracy:\", np.mean(acc)"
   ]
  },
  {
   "cell_type": "code",
   "execution_count": 67,
   "metadata": {
    "collapsed": false
   },
   "outputs": [
    {
     "name": "stdout",
     "output_type": "stream",
     "text": [
      "avg f1: 0.788901396696\n",
      "avg recall: 0.821965003781\n",
      "precision: 0.758718590045\n",
      "accuracy: 0.780220131114\n"
     ]
    }
   ],
   "source": [
    "weights = [3, 1, 1, 1, 1]\n",
    "bag_new_nov_w_v = get_weighted_voting_predictions([y_pr_new, y_pr_nov,  y_pr_bag, y_pr_bm, y_pr_con])\n",
    "f1, recall, pr, acc = get_scores(y_tests, bag_new_nov_w_v)\n",
    "print \"avg f1:\", np.mean(f1)\n",
    "print \"avg recall:\", np.mean(recall)\n",
    "print \"precision:\", np.mean(pr)\n",
    "print \"accuracy:\", np.mean(acc)"
   ]
  },
  {
   "cell_type": "code",
   "execution_count": null,
   "metadata": {
    "collapsed": true
   },
   "outputs": [],
   "source": []
  }
 ],
 "metadata": {
  "kernelspec": {
   "display_name": "Python 2",
   "language": "python",
   "name": "python2"
  },
  "language_info": {
   "codemirror_mode": {
    "name": "ipython",
    "version": 2
   },
   "file_extension": ".py",
   "mimetype": "text/x-python",
   "name": "python",
   "nbconvert_exporter": "python",
   "pygments_lexer": "ipython2",
   "version": "2.7.9"
  }
 },
 "nbformat": 4,
 "nbformat_minor": 0
}
